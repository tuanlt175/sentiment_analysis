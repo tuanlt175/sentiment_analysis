{
 "cells": [
  {
   "cell_type": "markdown",
   "metadata": {},
   "source": [
    "# Test Model"
   ]
  },
  {
   "cell_type": "markdown",
   "metadata": {},
   "source": [
    "### Load data and matrix data"
   ]
  },
  {
   "cell_type": "code",
   "execution_count": 1,
   "metadata": {},
   "outputs": [],
   "source": [
    "import pickle"
   ]
  },
  {
   "cell_type": "code",
   "execution_count": 2,
   "metadata": {},
   "outputs": [],
   "source": [
    "with open(\"data_tmp/nomarlized_data_train\", \"rb\") as file:\n",
    "    normal_data_train = pickle.load(file)\n",
    "\n",
    "with open(\"data_tmp/nomarlized_data_test\", \"rb\") as file:\n",
    "    normal_data_test = pickle.load(file)"
   ]
  },
  {
   "cell_type": "code",
   "execution_count": 3,
   "metadata": {},
   "outputs": [],
   "source": [
    "with open(\"data_tmp/vector_data_train\", \"rb\") as file:\n",
    "    data = pickle.load(file)\n",
    "    \n",
    "with open(\"data_tmp/vector_data_test\", \"rb\") as file:\n",
    "    data_test = pickle.load(file)\n"
   ]
  },
  {
   "cell_type": "code",
   "execution_count": 4,
   "metadata": {},
   "outputs": [],
   "source": [
    "# ##### Doc to Vec, nếu chạy SoftMax thì cần chạy Doc to Vec \n",
    "# import numpy as np\n",
    "\n",
    "# def get_len(row):\n",
    "#     for i,w in enumerate(row):\n",
    "#         if w[0] == 0. and w[1] == 0. and w[-1] == 0.:\n",
    "#             return i\n",
    "#             break\n",
    "#     return len(row)\n",
    "\n",
    "# data_docs = []\n",
    "# for i,row in enumerate(data[0]):\n",
    "#     data_docs.append(sum(row))\n",
    "    \n",
    "# data_docs = np.array(data_docs,dtype=np.float32)\n",
    "\n",
    "# data_test_docs = []\n",
    "# for i,row in enumerate(data_test[0]):\n",
    "#     data_test_docs.append(sum(row))\n",
    "    \n",
    "# data_test_docs = np.array(data_test_docs,dtype=np.float32)\n",
    "\n",
    "# data = [data_docs,data[1]]\n",
    "# data_test = [data_test_docs,data_test[1]]"
   ]
  },
  {
   "cell_type": "code",
   "execution_count": 5,
   "metadata": {},
   "outputs": [
    {
     "data": {
      "text/plain": [
       "(14000, 50, 300)"
      ]
     },
     "execution_count": 5,
     "metadata": {},
     "output_type": "execute_result"
    }
   ],
   "source": [
    "data[0].shape"
   ]
  },
  {
   "cell_type": "markdown",
   "metadata": {},
   "source": [
    "### Train model"
   ]
  },
  {
   "cell_type": "code",
   "execution_count": 6,
   "metadata": {},
   "outputs": [],
   "source": [
    "import tensorflow as tf\n",
    "from sourcecode.models.BiLSTM_SoftMax import BiLSTM_SoftMax\n",
    "from sourcecode.models.LSTM_SoftMax import LSTM_SoftMax\n",
    "from sourcecode.models.SoftMax import SoftMax"
   ]
  },
  {
   "cell_type": "code",
   "execution_count": 7,
   "metadata": {
    "collapsed": true
   },
   "outputs": [
    {
     "name": "stdout",
     "output_type": "stream",
     "text": [
      "WARNING:tensorflow:From /home/thanhtuan/Desktop/Code_NLP/MySA/sourcecode/models/LSTM_SoftMax.py:70: BasicLSTMCell.__init__ (from tensorflow.python.ops.rnn_cell_impl) is deprecated and will be removed in a future version.\n",
      "Instructions for updating:\n",
      "This class is equivalent as tf.keras.layers.LSTMCell, and will be replaced by that in Tensorflow 2.0.\n",
      "WARNING:tensorflow:\n",
      "The TensorFlow contrib module will not be included in TensorFlow 2.0.\n",
      "For more information, please see:\n",
      "  * https://github.com/tensorflow/community/blob/master/rfcs/20180907-contrib-sunset.md\n",
      "  * https://github.com/tensorflow/addons\n",
      "  * https://github.com/tensorflow/io (for I/O related ops)\n",
      "If you depend on functionality not listed there, please file an issue.\n",
      "\n",
      "WARNING:tensorflow:From /home/thanhtuan/Desktop/Code_NLP/MySA/sourcecode/models/LSTM_SoftMax.py:78: static_rnn (from tensorflow.python.ops.rnn) is deprecated and will be removed in a future version.\n",
      "Instructions for updating:\n",
      "Please use `keras.layers.RNN(cell, unroll=True)`, which is equivalent to this API\n",
      "WARNING:tensorflow:From /home/thanhtuan/anaconda3/lib/python3.7/site-packages/tensorflow_core/python/ops/rnn_cell_impl.py:735: Layer.add_variable (from tensorflow.python.keras.engine.base_layer) is deprecated and will be removed in a future version.\n",
      "Instructions for updating:\n",
      "Please use `layer.add_weight` method instead.\n",
      "WARNING:tensorflow:From /home/thanhtuan/anaconda3/lib/python3.7/site-packages/tensorflow_core/python/ops/rnn_cell_impl.py:739: calling Zeros.__init__ (from tensorflow.python.ops.init_ops) with dtype is deprecated and will be removed in a future version.\n",
      "Instructions for updating:\n",
      "Call initializer instance with the dtype argument instead of passing it to the constructor\n",
      "WARNING:tensorflow:From /home/thanhtuan/anaconda3/lib/python3.7/site-packages/tensorflow_core/python/training/adagrad.py:76: calling Constant.__init__ (from tensorflow.python.ops.init_ops) with dtype is deprecated and will be removed in a future version.\n",
      "Instructions for updating:\n",
      "Call initializer instance with the dtype argument instead of passing it to the constructor\n"
     ]
    }
   ],
   "source": [
    "classify = LSTM_SoftMax(learning_rate=0.05)\n"
   ]
  },
  {
   "cell_type": "code",
   "execution_count": 9,
   "metadata": {},
   "outputs": [],
   "source": [
    "# classify.train(data,50,400)\n",
    "# classify.save_model()"
   ]
  },
  {
   "cell_type": "code",
   "execution_count": 10,
   "metadata": {},
   "outputs": [
    {
     "name": "stdout",
     "output_type": "stream",
     "text": [
      "INFO:tensorflow:Restoring parameters from models/LSTM-Softmax/LSTM-Softmax.ckpt\n"
     ]
    },
    {
     "data": {
      "text/plain": [
       "7405"
      ]
     },
     "execution_count": 10,
     "metadata": {},
     "output_type": "execute_result"
    }
   ],
   "source": [
    "classify.load_model()\n",
    "len(classify.graph.get_operations()) # số lượng operation trong graph của model"
   ]
  },
  {
   "cell_type": "code",
   "execution_count": 11,
   "metadata": {},
   "outputs": [
    {
     "name": "stdout",
     "output_type": "stream",
     "text": [
      "Model LSTM + SoftMax\n",
      "----------------------------------------------------------------------------------------------------\n",
      "+ Kết quả cho nhãn 0\n",
      "                              Actual Positive      Actual Negative \n",
      "          Predict Positive     TP=675               FP=27\n",
      "          Predict Negative     FN=66               TN=519\n",
      "\n",
      "\n",
      "     - Precision: 0.9615384615384616\n",
      "     - Recall:    0.9109311740890689\n",
      "     - F1:        0.9355509355509357\n",
      "----------------------------------------------------------------------------------------------------\n",
      "+ Kết quả cho nhãn 1\n",
      "                              Actual Positive      Actual Negative \n",
      "          Predict Positive     TP=519               FP=66\n",
      "          Predict Negative     FN=27               TN=675\n",
      "\n",
      "\n",
      "     - Precision: 0.8871794871794871\n",
      "     - Recall:    0.9505494505494505\n",
      "     - F1:        0.9177718832891246\n",
      "\n"
     ]
    }
   ],
   "source": [
    "index_mistake = classify.evaluate(data_test)"
   ]
  },
  {
   "cell_type": "markdown",
   "metadata": {},
   "source": [
    "### In ra các trường hợp model dự đoán sai"
   ]
  },
  {
   "cell_type": "code",
   "execution_count": 19,
   "metadata": {},
   "outputs": [
    {
     "data": {
      "text/plain": [
       "93"
      ]
     },
     "execution_count": 19,
     "metadata": {},
     "output_type": "execute_result"
    }
   ],
   "source": [
    "len(index_mistake)"
   ]
  },
  {
   "cell_type": "code",
   "execution_count": 24,
   "metadata": {},
   "outputs": [
    {
     "name": "stdout",
     "output_type": "stream",
     "text": [
      "True label  Context\n",
      "Neg         khi tôi mua phải giầy lởm phản_hồi và được câu trả_lời tuyệt_vời positive positive\n",
      "\n",
      "Pos         giống như ảnh\n",
      "\n",
      "Pos         ngang áo to mà dài áo cộc\n",
      "\n",
      "Pos         sản_phẩm ok nhung giao sai màu rồi\n",
      "\n",
      "Neg         dép trong hình thì đẹp ngoài không đẹp lắm\n",
      "\n",
      "Neg         sản_phẩm này mình dùng chưa thấy gì nổi_bật chạy máy bước làm sạch bông cũng không đen như quảng_cáo cửa_hàng rất nhiệt_tình và giao hàng hàng rất nhanh dù có gửi nhầm hdsd tiếng việt cuả máy hada crie\n",
      "\n",
      "Pos         giay hoi cung tam_duoc\n",
      "\n",
      "Neg         htc nghĩ sao với vị_thế cuả hãng mà tự_tin áp mức giá này htc 10 có_thể là một chiếc phone tốt nhưng với giá bán này doanh_số sẽ thảm_hại\n",
      "\n",
      "Pos         giày đẹp lắm mấy bạn ạ thật_sự rất đáng tiền lưỡi giày dày chứ không mỏng như các hành f1 khác đi rất thoải_mái nhân_viên cũng nhiệt_tình nữa mình đã mua 3 lần và tổng là 5 đôi tại đây rồi mua không hối_hận đâu thật_sự\n",
      "\n",
      "Neg         sửa kém chất_lượng có mùi hôi lạ không giống như sửa mua ngoài cửa_hàng đóng_gói sản_phẩm rất đẹp và chắc_chắn đóng_gói sản_phẩm rất đẹp và chắc_chắn\n",
      "\n",
      "Neg         chất lieu day min nhung gui lon mau cho minh\n",
      "\n",
      "Pos         chưa biết có xài được không được chiều hôm_qua sáng nay nhận được hàng rồi tạm cho 5star\n",
      "\n",
      "Pos         dùng không có muỗi xung_quang thật nhưng bán_kính 20cm thôi không phải dưới 20m như quảng_cáo dùng tốt\n",
      "\n",
      "Neg         hợp với tiền nào cuả lấy\n",
      "\n",
      "Pos         tất_cả đều ok_trừ vòng đinh và kính gửi lộn_mầu thời_gian giao hàng lâu\n",
      "\n",
      "Pos         giao hang_lịch su hang dẹp chất luong\n",
      "\n",
      "Pos         smartphone về công_nghệ samsung là số 1\n",
      "\n",
      "Pos         chim_ưng\n",
      "\n",
      "Pos         sản_phẩm như_hình phần keo khá yếu sợ đi nh dễ bung keo nói_chung cũng được\n",
      "\n",
      "Pos         em từng dùng s4 s5 s7e và giờ em đang dùng 6s plus em nghĩ ip đủ đáp_ứng nhu_cầu cuả một người bình_thường và bền hơn theo thời_gian đỡ bị đơ hơn chứ không phải rớt hay ngụp_lặn dưới nước ạ\n",
      "\n",
      "Pos         đó là lối chơi gắn_bó sáng_tạo\n",
      "\n",
      "Neg         quảng_cáo là sữa tắm_gội toàn_thân mà nhận hàng chỉ là sữa tắm mới hay cảm_ơn cửa_hàng đã có quà tặng nhưng toàn tiếng nước_ngoài nên chẳng biết nó là cái gì nữa\n",
      "\n",
      "Pos         vỏ hơi dầy không bóc khó chất lương_ok\n",
      "\n",
      "Pos         chất_lượng sản_phẩm tốt mà không biết bên không đóng_gói sản_phẩm được\n",
      "\n",
      "Pos         dao bén lắm\n",
      "\n",
      "Neg         hang xấu qua thời_gian giao hàng rất nhanh\n",
      "\n",
      "Pos         thật_sự nhu_cầu sử_dụng cuả mỗi người 1 khác người thì đam_mê công_nghệ người thích phô_trương mà kinh_tế thì không có khả_năng\n",
      "\n",
      "Neg         10 năm 1 thiết_kế\n",
      "\n",
      "Pos         chất_lượng sản_phẩm tuyệt_vờichỉ tiếc là không check code được\n",
      "\n",
      "Neg         ầy giá cũng chát gớm\n",
      "\n",
      "Pos         đóng_gói cẩn_thận chất_lượng dùng tạm_kích sóng không rộng lắm\n",
      "\n",
      "Pos         son mau xinhhhh quaaa\n",
      "\n",
      "Pos         san phâm đẹp gỉông hình chưa đeo nên chưa bình_thường chăc luong the_nao\n",
      "\n",
      "Neg         chưa biết chất_lượng tnao nhưng đặt 45m thực_tế có 38m bạn nào mua nên lưu_ý nhé\n",
      "\n",
      "Pos         đóng_gói sản_phẩm vô_cùng chắc_chắn giao hàng nhanh dù là hàng tặng thì không quá kì_vọng nhưng kéo cùn quá hem cắt được lưu_ý cho các bạn sau mua hàng\n",
      "\n",
      "Pos         lông bên ngoài khá mềm nhưng lông bên trong hơi thô màu hồng đất hơi tối nói_chung thì áo khá ok cái tay phải lận lên thì mới giống hình quảng_cáo\n",
      "\n",
      "Pos         chất_lượng quá cửa_hàng p\n",
      "\n",
      "Pos         nhin giay ung ghe luon mua g yêu m nen quen không chup lai ui\n",
      "\n",
      "Pos         màu hồng chứ không phải đỏ nhu mình tuỏng sơn min dẹp\n",
      "\n",
      "Pos         cái hủ khô bò cửa_hàng không niêm pkhông mình thấy nó nhẹ hơn so với túi mực bỏ lên_cân có 4lạng hơn xíu tính lun cả hủ\n",
      "\n",
      "Pos         đã đếm được đủ 30 cái bánh không có cái nào bị nát hay chảy sữa\n",
      "\n",
      "Pos         mới dùng không phải tnao n cửa_hàng có tâm tặng miếng rửa mặt và cọ bôi mặt_nạ\n",
      "\n",
      "Neg         khi giao hàng thì phân nữa sản_phẩm đúng trong hình còn phân nữa cũng là cà_phê con sóc nhưng là loại khác\n",
      "\n",
      "Neg         mọi người tham_gia giao_thông rất ý_thức nên giao_thông ở đây tạo nên một trật_tự và đầy ý_thức\n",
      "\n",
      "Neg         bôi hai ba lần mới sạch bôi mắt xong ngứa luôn nhưng vận_chuyển thì rất lẹ\n",
      "\n",
      "Pos         không còn gì để nói quá hài_lòng\n",
      "\n",
      "Pos         chất luong moi nguoi mua là không lầm\n",
      "\n",
      "Pos         sản_phẩm đẹp không bị trầy\n",
      "\n",
      "Pos         thời_gian giao hàng rất nhanh nhưng nhìn áo có vẻ cũ mấy cái mác bị bôi xoá không hiểu tại_sao\n",
      "\n",
      "Pos         nếu có màu đen thì tốt quá tóc đen mà mày nâu thì hơi kì\n",
      "\n",
      "Pos         không có những cộng nghệ đi đầu nhưng xiaomi luôn đi đầu về giá kkk\n",
      "\n",
      "Neg         xúc_xích hơi bở đóng_gói sản_phẩm rất đẹp và chắc_chắn\n",
      "\n",
      "Neg         giao hàng nhanh sản_phẩm khó uống nhiều hạt_lép\n",
      "\n",
      "Pos         sản_phẩm ok mà giao hàng cao quá\n",
      "\n",
      "Pos         nên để nguyên thùng mì tôm không bóc lẻ\n",
      "\n",
      "Neg         mới_đầu sử_dụng thì rất tốt được 1 tháng thì đơ mẹ nó màn_hình\n",
      "\n",
      "Neg         đóng góc đẹp nhưng vận_chuyển bị trầy_sướt\n",
      "\n",
      "Pos         cảm_nhận riêng mình là những câu_chuyện từ sách như được cop nhặt từ 1 web nào đó của trung từng câu_chuyện đều là 1 chủ_đề khá là thú_vị đọc xong rồi thấy trung_quốc cũng không khác việt nam lắm\n",
      "\n",
      "Neg         bánh gạp thì được nhưng phô_mai trộn gì đó ghê lắm nhắn_tin cửa_hàng không trà lời nhé bạn nào mua thì đứng mua chỗ này làm ăn_gian_dối\n",
      "\n",
      "Pos         giày dẹp\n",
      "\n",
      "Neg         giao hàng siêu lâu chờ mà_cáu\n",
      "\n",
      "Pos         sau thời_gian dùng tuy mình không dùng bàn_chải chà cũng không cọ sát mạnh nhưng chữ và hình chuột mickey trên hình bị lem màu sơn trên ngôi_sao bị tróc hơi thất_vọng 1 tí\n",
      "\n",
      "Neg         không hài_lòng về chất_lượng sản_phẩm cùng một sản_phẩm nhưng đơn hàng trước hàng đẹp chất_liệu tốt đơn hàng lần này sản_phẩm_chất_liệu không tốt\n",
      "\n",
      "Pos         chất_lượng sản_phẩm ok đóng_gói bao_bì xấu quá không được đẹp_mắt\n",
      "\n",
      "Pos         mua hàng rất yên_tâm kem bôi hăm mà có cả 2 tem luôn tự_dưng cảm_giác mấy lần mua ở hiệu thuốc toàn mua phải đồ dỏm\n",
      "\n",
      "Neg         1 số trang_bị rách cần bảo_quản sách tốt hơn_nữa\n",
      "\n",
      "Pos         cug được vải hơi mỏng tien nao cua nay\n",
      "\n",
      "Pos         chất luong phu hop voi gia tien\n",
      "\n",
      "Pos         nhìn_chung thì tạm được thôi mình mua 4 cái nhưng trong đó có 1 cái không lên_đèn nhờ cửa_hàng nghiên_cứu lại\n",
      "\n",
      "Pos         moi dung thay_on\n",
      "\n",
      "Pos         lần này cửa_hàng giao hàng nhanhnguyen seal\n",
      "\n",
      "Pos         chất_lượng sản_phẩm tuyệt_vời nhưng hơi buồn vì mua 2 loại thì nó lại y_hệt nhau\n",
      "\n",
      "Neg         phom ao kkhông đẹp\n",
      "\n",
      "Pos         cửa_hàng cho hỏi iphone 6 làm thế_nào để sạc không dây wf\n",
      "\n",
      "Pos         samsung thật tuyệt_vời mình là fan samsung yêu samsung nhất samsung không 7 thật không_thể chê được không có đối_thủ\n",
      "\n",
      "Pos         nói_chung là ngonkhông được hoàn_thiện cho lắmnhưng đối_với mức giá thế này thì không đòi_hỏi gì thêmgiao hàng thì nhanh\n",
      "\n",
      "Pos         lần nào mua cũng hài_lòng\n",
      "\n",
      "Pos         nếu bên trong lót màu đen cùng màu giầy thì đẹp hơn\n",
      "\n",
      "Pos         quần dày_dặn\n",
      "\n",
      "Neg         ok không\n",
      "\n",
      "Pos         đây moi chinh la cong nghe\n",
      "\n",
      "Pos         chất son lìít dưỡng những không gây khô môi\n",
      "\n",
      "Pos         không thấy che_đậy cái lỗ tai_nghe thế_mà chống được nước mới tài ôi nhật_bản\n",
      "\n",
      "Pos         quan ao giao dung mau dug cỡ da nhon tu van nhiệt tịnh quan đẹp\n",
      "\n",
      "Pos         sản_phẩm tam được hop với gia tien giay nay di_vao mua dong thi được nhung di_em chan\n",
      "\n",
      "Neg         chất_lượng ổn nh muốn đôi cỡ thì hơi phức_tạp\n",
      "\n",
      "Pos         lên 4g cho oách\n",
      "\n",
      "Pos         lần đầu_tiên đặt đồng_hồ trên này mà ưng như_vậy quá hài_lòg\n",
      "\n",
      "Pos         đẹp quá nhưng yêu dòng không e mất rồi hóng tới t9 ra không e 6\n",
      "\n",
      "Pos         so với giá này thì mình hài_lòng\n",
      "\n",
      "Pos         đỡ lag hơn 9 3 1 nhiều mà\n",
      "\n",
      "Pos         dù_sao đây mới chỉ là thông xe kỹ_thuật còn một_số hạng_mục công_trình chưa hoàn_thiện\n",
      "\n",
      "Neg         giầy mềm đi êm chân nhưng hơi mùi nhựa\n",
      "\n"
     ]
    }
   ],
   "source": [
    "print(\"{:<10}  {}\".format(\"True label\",\"Context\"))\n",
    "for index in index_mistake:\n",
    "    label = \"Neg\" if normal_data_test[index][1] == \"1\" else \"Pos\"  ## 1 là negative, 0 là positive\n",
    "    print(\"{:<10}  {}\".format(label,\" \".join(normal_data_test[index][0])))\n",
    "    print()"
   ]
  },
  {
   "cell_type": "markdown",
   "metadata": {},
   "source": [
    "## Đóng model"
   ]
  },
  {
   "cell_type": "code",
   "execution_count": null,
   "metadata": {},
   "outputs": [],
   "source": [
    "classify.close()"
   ]
  },
  {
   "cell_type": "code",
   "execution_count": null,
   "metadata": {},
   "outputs": [],
   "source": []
  }
 ],
 "metadata": {
  "kernelspec": {
   "display_name": "base",
   "language": "python",
   "name": "base"
  },
  "language_info": {
   "codemirror_mode": {
    "name": "ipython",
    "version": 3
   },
   "file_extension": ".py",
   "mimetype": "text/x-python",
   "name": "python",
   "nbconvert_exporter": "python",
   "pygments_lexer": "ipython3",
   "version": "3.7.3"
  }
 },
 "nbformat": 4,
 "nbformat_minor": 2
}
