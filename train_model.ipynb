{
 "cells": [
  {
   "cell_type": "markdown",
   "metadata": {},
   "source": [
    "# Test Model"
   ]
  },
  {
   "cell_type": "markdown",
   "metadata": {},
   "source": [
    "### Load data and matrix data"
   ]
  },
  {
   "cell_type": "code",
   "execution_count": 1,
   "metadata": {},
   "outputs": [],
   "source": [
    "import pickle"
   ]
  },
  {
   "cell_type": "code",
   "execution_count": 2,
   "metadata": {},
   "outputs": [],
   "source": [
    "with open(\"data_tmp/nomarlized_data_train\", \"rb\") as file:\n",
    "    normal_data_train = pickle.load(file)\n",
    "\n",
    "with open(\"data_tmp/nomarlized_data_test\", \"rb\") as file:\n",
    "    normal_data_test = pickle.load(file)"
   ]
  },
  {
   "cell_type": "code",
   "execution_count": 52,
   "metadata": {},
   "outputs": [],
   "source": [
    "def get_vector(option=1):\n",
    "    if option==1:\n",
    "        path_train = \"data_tmp/vector300/vector_data_train\"\n",
    "        path_test = \"data_tmp/vector300/vector_data_test\"\n",
    "    elif option==2:\n",
    "        path_train = \"data_tmp/vector302/vector_data_train\"\n",
    "        path_test = \"data_tmp/vector302/vector_data_test\"\n",
    "    elif option==3:\n",
    "        path_train = \"data_tmp/vector304/vector_data_train\"\n",
    "        path_test = \"data_tmp/vector304/vector_data_test\"\n",
    "\n",
    "    with open(path_train, \"rb\") as file:\n",
    "        data = pickle.load(file)\n",
    "    with open(path_test, \"rb\") as file:\n",
    "        data_test = pickle.load(file)\n",
    "    return data, data_test\n",
    "\n",
    "data, data_test = get_vector(option=2)"
   ]
  },
  {
   "cell_type": "code",
   "execution_count": 53,
   "metadata": {},
   "outputs": [
    {
     "data": {
      "text/plain": [
       "(14000, 50, 302)"
      ]
     },
     "execution_count": 53,
     "metadata": {},
     "output_type": "execute_result"
    }
   ],
   "source": [
    "data[0].shape"
   ]
  },
  {
   "cell_type": "markdown",
   "metadata": {},
   "source": [
    "### Train model"
   ]
  },
  {
   "cell_type": "code",
   "execution_count": 10,
   "metadata": {},
   "outputs": [],
   "source": [
    "import tensorflow as tf\n",
    "from model_tensorflow.models.BiLSTM_SoftMax import BiLSTM_SoftMax\n",
    "from model_tensorflow.models.LSTM_SoftMax import LSTM_SoftMax\n",
    "from model_tensorflow.models.SoftMax import SoftMax"
   ]
  },
  {
   "cell_type": "code",
   "execution_count": 54,
   "metadata": {},
   "outputs": [],
   "source": [
    "classify = LSTM_SoftMax(learning_rate=0.1,num_unit_lstm=256,size_word_emd=302)"
   ]
  },
  {
   "cell_type": "code",
   "execution_count": 56,
   "metadata": {},
   "outputs": [
    {
     "name": "stdout",
     "output_type": "stream",
     "text": [
      "INFO:tensorflow:Restoring parameters from models/LSTM-Softmax-302-256/LSTM_SoftMax_302_256\n"
     ]
    }
   ],
   "source": [
    "path1 = \"models/LSTM-Softmax-300-256/LSTM_SoftMax_300_256\"\n",
    "path2 = \"models/LSTM-Softmax-302-256/LSTM_SoftMax_302_256\"\n",
    "path3 = \"models/LSTM-Softmax-304-256/LSTM_SoftMax_304_256\"\n",
    "\n",
    "classify.load_model(path2)"
   ]
  },
  {
   "cell_type": "code",
   "execution_count": null,
   "metadata": {},
   "outputs": [],
   "source": []
  },
  {
   "cell_type": "code",
   "execution_count": 29,
   "metadata": {},
   "outputs": [],
   "source": [
    "# classify.train(data,100,500)\n",
    "# classify.save_model()"
   ]
  },
  {
   "cell_type": "code",
   "execution_count": 30,
   "metadata": {},
   "outputs": [],
   "source": [
    "# classify.load_model()\n",
    "# len(classify.graph.get_operations()) # số lượng operation trong graph của model"
   ]
  },
  {
   "cell_type": "code",
   "execution_count": 59,
   "metadata": {},
   "outputs": [
    {
     "name": "stdout",
     "output_type": "stream",
     "text": [
      "Model LSTM + SoftMax\n",
      "----------------------------------------------------------------------------------------------------\n",
      "+ Kết quả cho nhãn 0\n",
      "                              Actual Positive      Actual Negative \n",
      "          Predict Positive     TP=676               FP=19\n",
      "          Predict Negative     FN=65               TN=527\n",
      "\n",
      "\n",
      "     - Precision: 0.9726618705035971\n",
      "     - Recall:    0.9122807017543859\n",
      "     - F1:        0.9415041782729805\n",
      "----------------------------------------------------------------------------------------------------\n",
      "+ Kết quả cho nhãn 1\n",
      "                              Actual Positive      Actual Negative \n",
      "          Predict Positive     TP=527               FP=65\n",
      "          Predict Negative     FN=19               TN=676\n",
      "\n",
      "\n",
      "     - Precision: 0.8902027027027027\n",
      "     - Recall:    0.9652014652014652\n",
      "     - F1:        0.9261862917398946\n",
      "\n"
     ]
    }
   ],
   "source": [
    "index_mistake = classify.evaluate(data_test)"
   ]
  },
  {
   "cell_type": "code",
   "execution_count": null,
   "metadata": {},
   "outputs": [],
   "source": []
  },
  {
   "cell_type": "markdown",
   "metadata": {},
   "source": [
    "### Đánh giá một số câu "
   ]
  },
  {
   "cell_type": "code",
   "execution_count": 36,
   "metadata": {},
   "outputs": [
    {
     "data": {
      "text/plain": [
       "[]"
      ]
     },
     "execution_count": 36,
     "metadata": {},
     "output_type": "execute_result"
    }
   ],
   "source": [
    "normal_data_test[rang[0]:rang[1]]\n",
    "data_test[rang[0]:rang[1]]"
   ]
  },
  {
   "cell_type": "code",
   "execution_count": 41,
   "metadata": {},
   "outputs": [
    {
     "data": {
      "text/plain": [
       "[['chất_lượng',\n",
       "  'sản_phẩm',\n",
       "  'rất',\n",
       "  'kém',\n",
       "  'gui',\n",
       "  'may',\n",
       "  'qua',\n",
       "  'cu',\n",
       "  'mat',\n",
       "  'uy',\n",
       "  'tin',\n",
       "  'quá',\n",
       "  'chac',\n",
       "  'không',\n",
       "  'co',\n",
       "  'lan',\n",
       "  'sau',\n",
       "  'nua',\n",
       "  'dau',\n",
       "  'quá',\n",
       "  'te'],\n",
       " '1']"
      ]
     },
     "execution_count": 41,
     "metadata": {},
     "output_type": "execute_result"
    }
   ],
   "source": [
    "normal_data_test[rang[0]:rang[1]][0]"
   ]
  },
  {
   "cell_type": "code",
   "execution_count": null,
   "metadata": {},
   "outputs": [],
   "source": []
  },
  {
   "cell_type": "code",
   "execution_count": 51,
   "metadata": {
    "collapsed": true
   },
   "outputs": [
    {
     "name": "stdout",
     "output_type": "stream",
     "text": [
      "chất_lượng sản_phẩm rất kém gui may qua cu mat uy tin quá chac không co lan sau nua dau quá te\n",
      "actual: False  predict: False\n",
      "----------------------------------------------------------------------------------------------------\n",
      "hy_vọng qua những sự_việc này pháp_luật nên xử nghiêm để tạo làn_sóng răn_đe cho những người chưa hiểu tính nghiêm_trọng cuả những sự_việc tương_tự\n",
      "actual: False  predict: False\n",
      "----------------------------------------------------------------------------------------------------\n",
      "chất_lượng sản_phẩm tuyệt_vời cửa_hàng_phục_vụ rất tốt\n",
      "actual: True  predict: True\n",
      "----------------------------------------------------------------------------------------------------\n",
      "chất_lượng sản được đóng_gói sản_phẩm rất đẹp và chắc_chắn thời_gian giao hàng rất nhanh không có phiếu bảo_hành chỉ có một mức\n",
      "actual: True  predict: True\n",
      "----------------------------------------------------------------------------------------------------\n",
      "giao hàng nhanh gói hàng cẩn_thận chắc_chắn chất_son dưỡng mướt_mịn nói_chung là ok cho 5star luôn\n",
      "actual: True  predict: True\n",
      "----------------------------------------------------------------------------------------------------\n",
      "main lỗi gủi bảo_hành quá lâu gọi mấy cuộc điện_thoại vẫn chưa nhận được hàng cửa_hàng làm_ăn quá chán\n",
      "actual: False  predict: False\n",
      "----------------------------------------------------------------------------------------------------\n",
      "hạn sử_dụng mới bánh ngon chất_lượng sản_phẩm tuyệt_vời rất đáng tiền\n",
      "actual: True  predict: True\n",
      "----------------------------------------------------------------------------------------------------\n",
      "chất_lượng sản_phẩm tuyệt_vời đồ rất đẹp vải dày min rất đáng tiền\n",
      "actual: True  predict: True\n",
      "----------------------------------------------------------------------------------------------------\n",
      "trước_mắt hài_lòng để về lâu_dài xem thế_nào\n",
      "actual: True  predict: True\n",
      "----------------------------------------------------------------------------------------------------\n",
      "dép trong hình thì đẹp ngoài không đẹp lắm\n",
      "actual: False  predict: True\n",
      "----------------------------------------------------------------------------------------------------\n",
      "sản_phẩm phần túi zip không còn tốt hạt chia bị rơi ra ngoài phần khoá zip khoá zip không chắn chắn nữa không biết có phải như_vậy nên được sale không\n",
      "actual: False  predict: False\n",
      "----------------------------------------------------------------------------------------------------\n",
      "sản_phẩm này mình dùng chưa thấy gì nổi_bật chạy máy bước làm sạch bông cũng không đen như quảng_cáo cửa_hàng rất nhiệt_tình và giao hàng hàng rất nhanh dù có gửi nhầm hdsd tiếng việt cuả máy hada crie\n",
      "actual: False  predict: True\n",
      "----------------------------------------------------------------------------------------------------\n",
      "giay hoi cung tam_duoc\n",
      "actual: True  predict: False\n",
      "----------------------------------------------------------------------------------------------------\n",
      "cửa_hàng_phục_vụ rất kém huỷ ngay sau 5p nhưng cửa_hàng không cho huỷ có trao_đổi lại và ok rồi nhưng vẫn không huỷ v mình mua rồi nhưng vẫn phải nhận vì đã chuyển tiền để năm sau dùng_vậy\n",
      "actual: False  predict: False\n",
      "----------------------------------------------------------------------------------------------------\n",
      "hạn sử_dụng dài đóng_gói ok\n",
      "actual: True  predict: True\n",
      "----------------------------------------------------------------------------------------------------\n",
      "cửa_hàng_phục_vụ rất tốt dù hơi chậm tí\n",
      "actual: True  predict: True\n",
      "----------------------------------------------------------------------------------------------------\n",
      "rất đẹp hình to bìa cứng_cáp chắc_chắn chim ưng lắm nạ giao hàng siêu nhanh đóng_gói quá chắc_chắn\n",
      "actual: True  predict: True\n",
      "----------------------------------------------------------------------------------------------------\n",
      "chất_lượng sản_phẩm tuyệt vờigiaohàng nhanh khủng_khiếp đúng hàng nha_h\n",
      "actual: True  predict: True\n",
      "----------------------------------------------------------------------------------------------------\n",
      "giày hơi nặng nhưng đẹp lắm đóng_gói sản_phẩm rất đẹp và chắc_chắn có miếng xốp bên trong cho 5star về chất_lượng phục_vụ còn độ bền thì cần thời_gian xem_xét\n",
      "actual: True  predict: True\n",
      "----------------------------------------------------------------------------------------------------\n",
      "nồi ninh rất nhừ mà đóng_gói rất chắc_chắn vừa với túi_tiền\n",
      "actual: True  predict: True\n",
      "----------------------------------------------------------------------------------------------------\n"
     ]
    }
   ],
   "source": [
    "rang = [50,70]\n",
    "\n",
    "predictions = classify.predict(data_test[0][rang[0]:rang[1]])\n",
    "for i,sent in enumerate(normal_data_test[rang[0]:rang[1]]):\n",
    "    actual = True if sent[1] == \"0\" else False\n",
    "    predict = True if predictions[i] == 0 else False\n",
    "    a = \" \"\n",
    "    print(f\"{a.join(sent[0])}\")\n",
    "    print(f\"actual: {actual}  predict: {predict}\")\n",
    "    print(\"-\"*100)"
   ]
  },
  {
   "cell_type": "code",
   "execution_count": null,
   "metadata": {},
   "outputs": [],
   "source": []
  },
  {
   "cell_type": "markdown",
   "metadata": {},
   "source": [
    "### In ra các trường hợp model dự đoán sai"
   ]
  },
  {
   "cell_type": "code",
   "execution_count": null,
   "metadata": {},
   "outputs": [],
   "source": [
    "len(index_mistake)"
   ]
  },
  {
   "cell_type": "code",
   "execution_count": null,
   "metadata": {},
   "outputs": [],
   "source": [
    "print(\"{:<10}  {}\".format(\"True label\",\"Context\"))\n",
    "for index in index_mistake:\n",
    "    label = \"Neg\" if normal_data_test[index][1] == \"1\" else \"Pos\"  ## 1 là negative, 0 là positive\n",
    "    print(\"{:<10}  {}\".format(label,\" \".join(normal_data_test[index][0])))\n",
    "    print()"
   ]
  },
  {
   "cell_type": "markdown",
   "metadata": {},
   "source": [
    "## Đóng model"
   ]
  },
  {
   "cell_type": "code",
   "execution_count": null,
   "metadata": {},
   "outputs": [],
   "source": [
    "classify.close()"
   ]
  },
  {
   "cell_type": "code",
   "execution_count": null,
   "metadata": {},
   "outputs": [],
   "source": []
  },
  {
   "cell_type": "markdown",
   "metadata": {},
   "source": [
    "## Nghịch cho vui"
   ]
  },
  {
   "cell_type": "code",
   "execution_count": null,
   "metadata": {},
   "outputs": [],
   "source": [
    "import tensorflow as tf\n",
    "import numpy as np\n",
    "import matplotlib.pyplot as plt"
   ]
  },
  {
   "cell_type": "code",
   "execution_count": null,
   "metadata": {},
   "outputs": [],
   "source": [
    "classify"
   ]
  },
  {
   "cell_type": "code",
   "execution_count": null,
   "metadata": {},
   "outputs": [],
   "source": []
  },
  {
   "cell_type": "code",
   "execution_count": null,
   "metadata": {},
   "outputs": [],
   "source": [
    "g = tf.Graph()\n",
    "with g.as_default():\n",
    "    ran = tf.random.truncated_normal( [5000,1000], mean=0.0, stddev=1.0, dtype=tf.dtypes.float32, seed=10)\n",
    "    \n",
    "with tf.compat.v1.Session(graph=g) as sess:\n",
    "    ran = sess.run(ran)\n",
    "    devices = sess.list_devices()\n",
    "#     for d in devices:\n",
    "#         print(d.name)\n",
    "    "
   ]
  },
  {
   "cell_type": "code",
   "execution_count": null,
   "metadata": {},
   "outputs": [],
   "source": []
  },
  {
   "cell_type": "code",
   "execution_count": null,
   "metadata": {},
   "outputs": [],
   "source": [
    "ran = np.reshape(ran,(1000,5000))"
   ]
  },
  {
   "cell_type": "code",
   "execution_count": null,
   "metadata": {},
   "outputs": [],
   "source": [
    "ran.shape"
   ]
  },
  {
   "cell_type": "code",
   "execution_count": null,
   "metadata": {},
   "outputs": [],
   "source": [
    "plt.hist(ran[1],100)\n",
    "plt.show()"
   ]
  },
  {
   "cell_type": "code",
   "execution_count": null,
   "metadata": {},
   "outputs": [],
   "source": []
  }
 ],
 "metadata": {
  "kernelspec": {
   "display_name": "base",
   "language": "python",
   "name": "base"
  },
  "language_info": {
   "codemirror_mode": {
    "name": "ipython",
    "version": 3
   },
   "file_extension": ".py",
   "mimetype": "text/x-python",
   "name": "python",
   "nbconvert_exporter": "python",
   "pygments_lexer": "ipython3",
   "version": "3.7.3"
  }
 },
 "nbformat": 4,
 "nbformat_minor": 2
}
