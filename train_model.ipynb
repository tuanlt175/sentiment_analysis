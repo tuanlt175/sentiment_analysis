{
 "cells": [
  {
   "cell_type": "markdown",
   "metadata": {},
   "source": [
    "# Test Model"
   ]
  },
  {
   "cell_type": "markdown",
   "metadata": {},
   "source": [
    "### Load matrix data"
   ]
  },
  {
   "cell_type": "code",
   "execution_count": null,
   "metadata": {},
   "outputs": [],
   "source": [
    "import pickle\n",
    "\n",
    "with open(\"data_tmp/vector_data_train\", \"rb\") as file:\n",
    "    data = pickle.load(file)\n",
    "    \n",
    "with open(\"data_tmp/vector_data_test\", \"rb\") as file:\n",
    "    data_test = pickle.load(file)\n"
   ]
  },
  {
   "cell_type": "code",
   "execution_count": null,
   "metadata": {},
   "outputs": [],
   "source": [
    "# import numpy as np\n",
    "\n",
    "# def get_len(row):\n",
    "#     for i,w in enumerate(row):\n",
    "#         if w[0] == 0. and w[1] == 0. and w[-1] == 0.:\n",
    "#             return i\n",
    "#             break\n",
    "#     return len(row)\n",
    "\n",
    "# data_docs = []\n",
    "# for i,row in enumerate(data[0]):\n",
    "#     data_docs.append(sum(row))\n",
    "    \n",
    "# data_docs = np.array(data_docs,dtype=np.float32)\n",
    "\n",
    "# data_test_docs = []\n",
    "# for i,row in enumerate(data_test[0]):\n",
    "#     data_test_docs.append(sum(row))\n",
    "    \n",
    "# data_test_docs = np.array(data_test_docs,dtype=np.float32)\n",
    "\n",
    "# data = [data_docs,data[1]]\n",
    "# data_test = [data_test_docs,data_test[1]]"
   ]
  },
  {
   "cell_type": "code",
   "execution_count": null,
   "metadata": {},
   "outputs": [],
   "source": [
    "data[0].shape"
   ]
  },
  {
   "cell_type": "markdown",
   "metadata": {},
   "source": [
    "### Train model"
   ]
  },
  {
   "cell_type": "code",
   "execution_count": null,
   "metadata": {},
   "outputs": [],
   "source": [
    "import tensorflow as tf\n",
    "from sourcecode.models.BiLSTM_SoftMax import BiLSTM_SoftMax\n",
    "from sourcecode.models.LSTM_SoftMax import LSTM_SoftMax\n",
    "from sourcecode.models.SoftMax import SoftMax"
   ]
  },
  {
   "cell_type": "code",
   "execution_count": null,
   "metadata": {},
   "outputs": [],
   "source": [
    "sess = tf.Session()\n",
    "classify = LSTM_SoftMax(sess,learning_rate=0.05)\n",
    "\n",
    "classify.modeling()"
   ]
  },
  {
   "cell_type": "code",
   "execution_count": null,
   "metadata": {},
   "outputs": [],
   "source": [
    "# classify.train(data,50,400)\n"
   ]
  },
  {
   "cell_type": "code",
   "execution_count": null,
   "metadata": {},
   "outputs": [],
   "source": [
    "classify.save_model()\n",
    "\n",
    "# classify.load_model()"
   ]
  },
  {
   "cell_type": "code",
   "execution_count": null,
   "metadata": {},
   "outputs": [],
   "source": [
    "classify.evaluate(data_test)"
   ]
  },
  {
   "cell_type": "code",
   "execution_count": null,
   "metadata": {},
   "outputs": [],
   "source": []
  },
  {
   "cell_type": "code",
   "execution_count": null,
   "metadata": {},
   "outputs": [],
   "source": []
  }
 ],
 "metadata": {
  "kernelspec": {
   "display_name": "base",
   "language": "python",
   "name": "base"
  },
  "language_info": {
   "codemirror_mode": {
    "name": "ipython",
    "version": 3
   },
   "file_extension": ".py",
   "mimetype": "text/x-python",
   "name": "python",
   "nbconvert_exporter": "python",
   "pygments_lexer": "ipython3",
   "version": "3.7.3"
  }
 },
 "nbformat": 4,
 "nbformat_minor": 2
}
