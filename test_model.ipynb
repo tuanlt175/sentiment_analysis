{
 "cells": [
  {
   "cell_type": "markdown",
   "metadata": {},
   "source": [
    "## Dự đoán nhãn cảm xúc của một danh sách câu"
   ]
  },
  {
   "cell_type": "code",
   "execution_count": 1,
   "metadata": {},
   "outputs": [],
   "source": [
    "from model_tensorflow.main import Sentiment"
   ]
  },
  {
   "cell_type": "code",
   "execution_count": 2,
   "metadata": {
    "collapsed": true
   },
   "outputs": [
    {
     "name": "stdout",
     "output_type": "stream",
     "text": [
      "WARNING:tensorflow:From /home/thanhtuan/Desktop/Code_NLP/MySA/sourcecode/models/LSTM_SoftMax.py:70: BasicLSTMCell.__init__ (from tensorflow.python.ops.rnn_cell_impl) is deprecated and will be removed in a future version.\n",
      "Instructions for updating:\n",
      "This class is equivalent as tf.keras.layers.LSTMCell, and will be replaced by that in Tensorflow 2.0.\n",
      "WARNING:tensorflow:\n",
      "The TensorFlow contrib module will not be included in TensorFlow 2.0.\n",
      "For more information, please see:\n",
      "  * https://github.com/tensorflow/community/blob/master/rfcs/20180907-contrib-sunset.md\n",
      "  * https://github.com/tensorflow/addons\n",
      "  * https://github.com/tensorflow/io (for I/O related ops)\n",
      "If you depend on functionality not listed there, please file an issue.\n",
      "\n",
      "WARNING:tensorflow:From /home/thanhtuan/Desktop/Code_NLP/MySA/sourcecode/models/LSTM_SoftMax.py:78: static_rnn (from tensorflow.python.ops.rnn) is deprecated and will be removed in a future version.\n",
      "Instructions for updating:\n",
      "Please use `keras.layers.RNN(cell, unroll=True)`, which is equivalent to this API\n",
      "WARNING:tensorflow:From /home/thanhtuan/anaconda3/lib/python3.7/site-packages/tensorflow_core/python/ops/rnn_cell_impl.py:735: Layer.add_variable (from tensorflow.python.keras.engine.base_layer) is deprecated and will be removed in a future version.\n",
      "Instructions for updating:\n",
      "Please use `layer.add_weight` method instead.\n",
      "WARNING:tensorflow:From /home/thanhtuan/anaconda3/lib/python3.7/site-packages/tensorflow_core/python/ops/rnn_cell_impl.py:739: calling Zeros.__init__ (from tensorflow.python.ops.init_ops) with dtype is deprecated and will be removed in a future version.\n",
      "Instructions for updating:\n",
      "Call initializer instance with the dtype argument instead of passing it to the constructor\n",
      "WARNING:tensorflow:From /home/thanhtuan/anaconda3/lib/python3.7/site-packages/tensorflow_core/python/training/adagrad.py:76: calling Constant.__init__ (from tensorflow.python.ops.init_ops) with dtype is deprecated and will be removed in a future version.\n",
      "Instructions for updating:\n",
      "Call initializer instance with the dtype argument instead of passing it to the constructor\n",
      "INFO:tensorflow:Restoring parameters from models/LSTM-Softmax/LSTM-Softmax.ckpt\n"
     ]
    }
   ],
   "source": [
    "sentiment = Sentiment()"
   ]
  },
  {
   "cell_type": "markdown",
   "metadata": {},
   "source": [
    "## Test"
   ]
  },
  {
   "cell_type": "code",
   "execution_count": 33,
   "metadata": {},
   "outputs": [],
   "source": [
    "list_text = [\n",
    "    \"Hôm nay trời đẹp quá\",\n",
    "    \"Cái áo này mới mặc được mấy hôm đã bị rách, huhu\",\n",
    "    \"Quán này đồ ăn ngon nhưng phục vụ thì tệ lắm\",\n",
    "    \"Đồ ăn ở đây không được ngon cho lắm\",\n",
    "    \"Cái áo này không đẹp\",\n",
    "    \"Máy chạy bền, pin trâu\",\n",
    "    \"Máy chơi game khoẻ, mượt\",\n",
    "    \"Đồ ăn cũng được\",\n",
    "    \"Chỗ này đồ ăn không ngon chút nào, nếu không muốn nói là tệ\",\n",
    "    \"sản_phẩm ok nhung giao sai màu rồi\",\n",
    "    \"dép trong hình thì đẹp ngoài không đẹp lắm\"\n",
    "]"
   ]
  },
  {
   "cell_type": "code",
   "execution_count": 34,
   "metadata": {},
   "outputs": [],
   "source": [
    "predict = sentiment.predict(list_text)"
   ]
  },
  {
   "cell_type": "code",
   "execution_count": 35,
   "metadata": {},
   "outputs": [
    {
     "name": "stdout",
     "output_type": "stream",
     "text": [
      "Hôm nay trời đẹp quá                               posivite\n",
      "Cái áo này mới mặc được mấy hôm đã bị rách, huhu   negative\n",
      "Quán này đồ ăn ngon nhưng phục vụ thì tệ lắm       negative\n",
      "Đồ ăn ở đây không được ngon cho lắm                negative\n",
      "Cái áo này không đẹp                               negative\n",
      "Máy chạy bền, pin trâu                             negative\n",
      "Máy chơi game khoẻ, mượt                           posivite\n",
      "Đồ ăn cũng được                                    posivite\n",
      "Chỗ này đồ ăn không ngon chút nào, nếu không muốn nói là tệ negative\n",
      "sản_phẩm ok nhung giao sai màu rồi                 negative\n",
      "dép trong hình thì đẹp ngoài không đẹp lắm         posivite\n"
     ]
    }
   ],
   "source": [
    "for row in predict:\n",
    "    print(\"{:<50} {}\".format(row[0],row[1]))"
   ]
  },
  {
   "cell_type": "code",
   "execution_count": null,
   "metadata": {},
   "outputs": [],
   "source": []
  },
  {
   "cell_type": "markdown",
   "metadata": {},
   "source": [
    "## Đóng model"
   ]
  },
  {
   "cell_type": "code",
   "execution_count": 24,
   "metadata": {},
   "outputs": [],
   "source": [
    "sentiment.classify.close()"
   ]
  },
  {
   "cell_type": "code",
   "execution_count": null,
   "metadata": {},
   "outputs": [],
   "source": []
  }
 ],
 "metadata": {
  "kernelspec": {
   "display_name": "Python 3",
   "language": "python",
   "name": "python3"
  },
  "language_info": {
   "codemirror_mode": {
    "name": "ipython",
    "version": 3
   },
   "file_extension": ".py",
   "mimetype": "text/x-python",
   "name": "python",
   "nbconvert_exporter": "python",
   "pygments_lexer": "ipython3",
   "version": "3.7.3"
  }
 },
 "nbformat": 4,
 "nbformat_minor": 2
}
