{
 "cells": [
  {
   "cell_type": "markdown",
   "metadata": {},
   "source": [
    "## Dự đoán nhãn cảm xúc của một danh sách câu"
   ]
  },
  {
   "cell_type": "code",
   "execution_count": 1,
   "metadata": {},
   "outputs": [],
   "source": [
    "from model_tensorflow.main import Sentiment"
   ]
  },
  {
   "cell_type": "code",
   "execution_count": 13,
   "metadata": {},
   "outputs": [
    {
     "name": "stdout",
     "output_type": "stream",
     "text": [
      "INFO:tensorflow:Restoring parameters from models/LSTM-Softmax-302-256/LSTM_SoftMax_302_256\n"
     ]
    }
   ],
   "source": [
    "sentiment = Sentiment(option=2)"
   ]
  },
  {
   "cell_type": "markdown",
   "metadata": {},
   "source": [
    "## Test"
   ]
  },
  {
   "cell_type": "code",
   "execution_count": 61,
   "metadata": {},
   "outputs": [],
   "source": [
    "list_text = [\n",
    "    \"Hôm nay trời đẹp quá\",\n",
    "    \"đồ ăn không tệ\",\n",
    "    \"đồ ăn tệ\",\n",
    "    \"đồ ăn không ngon\",\n",
    "    \"đồ ăn ngon\",\n",
    "    \"cái áo không đẹp\",\n",
    "    \"cái áo đẹp\",\n",
    "    \"Cái áo này mới mặc được mấy hôm đã bị rách, huhu\",\n",
    "    \"Quán này đồ ăn ngon nhưng phục vụ thì tệ lắm\",\n",
    "    \"Đồ ăn ở đây không được ngon cho lắm\",\n",
    "    \"Cái áo này không đẹp\",\n",
    "    \"Cái áo hơi dài và rộng\",\n",
    "    \"Cái áo hơi dài và rộng, vải hơi xù xì\",\n",
    "    \"Máy chạy bền, pin trâu\",\n",
    "    \"Máy chơi game khoẻ, mượt\",\n",
    "    \"Đồ ăn cũng tàm tạm\",\n",
    "    \"Chỗ này đồ ăn không ngon chút nào, nếu không muốn nói là tệ\",\n",
    "    \"sản_phẩm ok nhung giao sai màu rồi\",\n",
    "    \"dép trong hình thì đẹp ngoài không đẹp lắm\",\n",
    "    \"vải tệ lắm\",\n",
    "    \"cái áo này tệ\",\n",
    "    \"Cám ơn shop. Đóng gói sản phẩm rất đẹp và chắc chắn\",\n",
    "    \"Hơi bị mặn\",\n",
    "    \"Tien nao cua do tam chap nhan dc.\",\n",
    "    \"Mẫu mã đẹp đóng gói cẩn thận.\",\n",
    "    \"Đóng gói chắc chắn giao hơi nhanh ốp tạm chụp là màu hồng nhưng ở ngoài thì là cam đất\",\n",
    "    \"Mới mở ra đã hư dây kéo \",\n",
    "    \"Yêu chị chủ shop. Hàng chim ưng lắm\",\n",
    "    \"Tiền nào của đó. Giao đôi giầy hai hãng khác nhau. Nhìn cười muốn hộc máu. \",\n",
    "    \"Đồng hồ rất nhẹ ‘ nói chung là dỏm\",\n",
    "    \" Chất lượng sản phẩm rất kém mang nóng chân hàng loại 2. K nên mua.\",\n",
    "    \"Chất lượng cũng ok đấy\"\n",
    "\n",
    "]\n",
    "# list_text = [\n",
    "#     \"đồ ăn thì được đấy, nhưng không ngon lắm\"\n",
    "# ]"
   ]
  },
  {
   "cell_type": "code",
   "execution_count": 62,
   "metadata": {},
   "outputs": [],
   "source": [
    "predict = sentiment.predict(list_text)"
   ]
  },
  {
   "cell_type": "code",
   "execution_count": 63,
   "metadata": {},
   "outputs": [
    {
     "name": "stdout",
     "output_type": "stream",
     "text": [
      "Hôm nay trời đẹp quá                               posivite\n",
      "----------------------------------------------------------------------------------------------------\n",
      "đồ ăn không tệ                                     negative\n",
      "----------------------------------------------------------------------------------------------------\n",
      "đồ ăn tệ                                           posivite\n",
      "----------------------------------------------------------------------------------------------------\n",
      "đồ ăn không ngon                                   negative\n",
      "----------------------------------------------------------------------------------------------------\n",
      "đồ ăn ngon                                         posivite\n",
      "----------------------------------------------------------------------------------------------------\n",
      "cái áo không đẹp                                   negative\n",
      "----------------------------------------------------------------------------------------------------\n",
      "cái áo đẹp                                         posivite\n",
      "----------------------------------------------------------------------------------------------------\n",
      "Cái áo này mới mặc được mấy hôm đã bị rách, huhu   negative\n",
      "----------------------------------------------------------------------------------------------------\n",
      "Quán này đồ ăn ngon nhưng phục vụ thì tệ lắm       negative\n",
      "----------------------------------------------------------------------------------------------------\n",
      "Đồ ăn ở đây không được ngon cho lắm                negative\n",
      "----------------------------------------------------------------------------------------------------\n",
      "Cái áo này không đẹp                               negative\n",
      "----------------------------------------------------------------------------------------------------\n",
      "Cái áo hơi dài và rộng                             negative\n",
      "----------------------------------------------------------------------------------------------------\n",
      "Cái áo hơi dài và rộng, vải hơi xù xì              negative\n",
      "----------------------------------------------------------------------------------------------------\n",
      "Máy chạy bền, pin trâu                             negative\n",
      "----------------------------------------------------------------------------------------------------\n",
      "Máy chơi game khoẻ, mượt                           posivite\n",
      "----------------------------------------------------------------------------------------------------\n",
      "Đồ ăn cũng tàm tạm                                 posivite\n",
      "----------------------------------------------------------------------------------------------------\n",
      "Chỗ này đồ ăn không ngon chút nào, nếu không muốn nói là tệ negative\n",
      "----------------------------------------------------------------------------------------------------\n",
      "sản_phẩm ok nhung giao sai màu rồi                 negative\n",
      "----------------------------------------------------------------------------------------------------\n",
      "dép trong hình thì đẹp ngoài không đẹp lắm         negative\n",
      "----------------------------------------------------------------------------------------------------\n",
      "vải tệ lắm                                         negative\n",
      "----------------------------------------------------------------------------------------------------\n",
      "cái áo này tệ                                      negative\n",
      "----------------------------------------------------------------------------------------------------\n",
      "Cám ơn shop. Đóng gói sản phẩm rất đẹp và chắc chắn posivite\n",
      "----------------------------------------------------------------------------------------------------\n",
      "Hơi bị mặn                                         negative\n",
      "----------------------------------------------------------------------------------------------------\n",
      "Tien nao cua do tam chap nhan dc.                  negative\n",
      "----------------------------------------------------------------------------------------------------\n",
      "Mẫu mã đẹp đóng gói cẩn thận.                      posivite\n",
      "----------------------------------------------------------------------------------------------------\n",
      "Đóng gói chắc chắn giao hơi nhanh ốp tạm chụp là màu hồng nhưng ở ngoài thì là cam đất posivite\n",
      "----------------------------------------------------------------------------------------------------\n",
      "Mới mở ra đã hư dây kéo                            negative\n",
      "----------------------------------------------------------------------------------------------------\n",
      "Yêu chị chủ shop. Hàng chim ưng lắm                posivite\n",
      "----------------------------------------------------------------------------------------------------\n",
      "Tiền nào của đó. Giao đôi giầy hai hãng khác nhau. Nhìn cười muốn hộc máu.  negative\n",
      "----------------------------------------------------------------------------------------------------\n",
      "Đồng hồ rất nhẹ ‘ nói chung là dỏm                 negative\n",
      "----------------------------------------------------------------------------------------------------\n",
      " Chất lượng sản phẩm rất kém mang nóng chân hàng loại 2. K nên mua. negative\n",
      "----------------------------------------------------------------------------------------------------\n",
      "Chất lượng cũng ok đấy                             posivite\n",
      "----------------------------------------------------------------------------------------------------\n"
     ]
    }
   ],
   "source": [
    "for row in predict:\n",
    "    print(\"{:<50} {}\".format(row[0],row[1]))\n",
    "    print(\"-\"*100)"
   ]
  },
  {
   "cell_type": "code",
   "execution_count": null,
   "metadata": {},
   "outputs": [],
   "source": []
  },
  {
   "cell_type": "code",
   "execution_count": null,
   "metadata": {},
   "outputs": [],
   "source": []
  },
  {
   "cell_type": "markdown",
   "metadata": {},
   "source": [
    "## Đóng model"
   ]
  },
  {
   "cell_type": "code",
   "execution_count": null,
   "metadata": {},
   "outputs": [],
   "source": [
    "sentiment.classify.close()"
   ]
  },
  {
   "cell_type": "code",
   "execution_count": null,
   "metadata": {},
   "outputs": [],
   "source": []
  }
 ],
 "metadata": {
  "kernelspec": {
   "display_name": "Python 3",
   "language": "python",
   "name": "python3"
  },
  "language_info": {
   "codemirror_mode": {
    "name": "ipython",
    "version": 3
   },
   "file_extension": ".py",
   "mimetype": "text/x-python",
   "name": "python",
   "nbconvert_exporter": "python",
   "pygments_lexer": "ipython3",
   "version": "3.7.3"
  }
 },
 "nbformat": 4,
 "nbformat_minor": 2
}
