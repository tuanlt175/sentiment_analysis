{
 "cells": [
  {
   "cell_type": "markdown",
   "metadata": {},
   "source": [
    "## Đọc dữ liệu và tiền xử lý"
   ]
  },
  {
   "cell_type": "code",
   "execution_count": 6,
   "metadata": {
    "scrolled": true
   },
   "outputs": [],
   "source": [
    "from utils.file import read_file_txt, write_file_txt\n",
    "from utils.normalize import nomarlize_teen_code, nomarlize_text, no_marks\n",
    "\n",
    "import time\n",
    "import pickle\n",
    "\n",
    "from model_tensorflow.preprocess import load_raw_data,clean_data, separate_data , get_mat_data\n",
    "\n",
    "# text = u\"🏻 Trường đại học bách khoa hà nội\"\n",
    "# token = ViTokenizer.tokenize(text)"
   ]
  },
  {
   "cell_type": "markdown",
   "metadata": {},
   "source": [
    "### Đọc dữ liệu thô từ file"
   ]
  },
  {
   "cell_type": "code",
   "execution_count": null,
   "metadata": {},
   "outputs": [],
   "source": [
    "# filename = \"data/train.crash\"\n",
    "# data = load_raw_data(filename)\n",
    "  \n",
    "# ### làm sạch dữ liệu\n",
    "# clean_data(data)\n",
    "\n",
    "# ## dump dữ liệu dạng text vào file: nomarlized_data_train_all chứa tất cả dữ liệu trên hơn 16073 câu\n",
    "# with open(\"data_tmp/nomarlized_data_train_all\", \"wb\") as file:\n",
    "#     pickle.dump(data, file)"
   ]
  },
  {
   "cell_type": "code",
   "execution_count": null,
   "metadata": {},
   "outputs": [],
   "source": [
    "# # Chia dữ liệu thành 2 phần gồm các câu dài hơn 50 tokens và các câu ngắn hơn 50 tokens\n",
    "# long_data, normal_data = separate_data(data)\n",
    "\n",
    "# normal_data_train = normal_data[0:14000]\n",
    "# normal_data_test = normal_data[14000:]"
   ]
  },
  {
   "cell_type": "code",
   "execution_count": null,
   "metadata": {},
   "outputs": [],
   "source": [
    "# ### nomarlized_data_train chứa 14000 câu ngắn hơn 50 tokens lấy từ nomarlized_data_train_all\n",
    "# with open(\"data_tmp/nomarlized_data_train\", \"wb\") as file:\n",
    "#     pickle.dump(normal_data_train, file)\n",
    "\n",
    "# ### nomarlized_data_test chứa 1287 câu ngắn hơn 50 tokens lấy từ nomarlized_data_train_all\n",
    "# with open(\"data_tmp/nomarlized_data_test\", \"wb\") as file:\n",
    "#     pickle.dump(normal_data_test, file)"
   ]
  },
  {
   "cell_type": "code",
   "execution_count": 2,
   "metadata": {},
   "outputs": [],
   "source": [
    "with open(\"data_tmp/nomarlized_data_train\", \"rb\") as file:\n",
    "    normal_data_train = pickle.load(file)\n",
    "\n",
    "with open(\"data_tmp/nomarlized_data_test\", \"rb\") as file:\n",
    "    normal_data_test = pickle.load(file)"
   ]
  },
  {
   "cell_type": "code",
   "execution_count": 3,
   "metadata": {},
   "outputs": [
    {
     "data": {
      "text/plain": [
       "1287"
      ]
     },
     "execution_count": 3,
     "metadata": {},
     "output_type": "execute_result"
    }
   ],
   "source": [
    "len(normal_data_test)"
   ]
  },
  {
   "cell_type": "code",
   "execution_count": 15,
   "metadata": {},
   "outputs": [
    {
     "data": {
      "text/plain": [
       "14000"
      ]
     },
     "execution_count": 15,
     "metadata": {},
     "output_type": "execute_result"
    }
   ],
   "source": [
    "len(normal_data_train)"
   ]
  },
  {
   "cell_type": "markdown",
   "metadata": {},
   "source": [
    "## Word2Vec"
   ]
  },
  {
   "cell_type": "code",
   "execution_count": 5,
   "metadata": {},
   "outputs": [],
   "source": [
    "import numpy as np\n",
    "import gensim  \n",
    "fileW2V = '../data/embedding/word2vec/baomoi.window2.vn.model.bin'\n",
    "model = gensim.models.KeyedVectors.load_word2vec_format(fileW2V, binary=True)\n"
   ]
  },
  {
   "cell_type": "code",
   "execution_count": null,
   "metadata": {},
   "outputs": [],
   "source": []
  },
  {
   "cell_type": "code",
   "execution_count": null,
   "metadata": {},
   "outputs": [],
   "source": [
    "X_train, Y_train = get_mat_data(model, normal_data_train, option=1, max_len=50,size_word_emd=300)\n",
    "X_test, Y_test = get_mat_data(model, normal_data_test, option=1,max_len=50,size_word_emd=300)\n",
    "\n",
    "with open(\"data_tmp/vector300/vector_data_train\", \"wb\") as file:\n",
    "    pickle.dump([X_train,Y_train], file)\n",
    "    \n",
    "with open(\"data_tmp/vector300/vector_data_test\", \"wb\") as file:\n",
    "    pickle.dump([X_test,Y_test], file)"
   ]
  },
  {
   "cell_type": "code",
   "execution_count": null,
   "metadata": {},
   "outputs": [],
   "source": [
    "# with open(\"data_tmp/vector_data_train\", \"rb\") as file:\n",
    "#     data = pickle.load(file)\n",
    "    \n",
    "# with open(\"data_tmp/vector_data_test\", \"rb\") as file:\n",
    "#     data_test = pickle.load(file)"
   ]
  },
  {
   "cell_type": "code",
   "execution_count": null,
   "metadata": {},
   "outputs": [],
   "source": []
  },
  {
   "cell_type": "code",
   "execution_count": null,
   "metadata": {},
   "outputs": [],
   "source": []
  }
 ],
 "metadata": {
  "kernelspec": {
   "display_name": "base",
   "language": "python",
   "name": "base"
  },
  "language_info": {
   "codemirror_mode": {
    "name": "ipython",
    "version": 3
   },
   "file_extension": ".py",
   "mimetype": "text/x-python",
   "name": "python",
   "nbconvert_exporter": "python",
   "pygments_lexer": "ipython3",
   "version": "3.7.3"
  }
 },
 "nbformat": 4,
 "nbformat_minor": 2
}
